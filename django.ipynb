{
 "cells": [
  {
   "cell_type": "markdown",
   "id": "bdd742f9",
   "metadata": {},
   "source": [
    "# 1.0 Django Turorial - Building a Learning Log"
   ]
  },
  {
   "cell_type": "markdown",
   "id": "564bbef9",
   "metadata": {},
   "source": [
    "- Django is a web framework—a set of tools designed to help you build interactive websites.\n",
    "\n"
   ]
  },
  {
   "cell_type": "markdown",
   "id": "6bb0d649",
   "metadata": {},
   "source": [
    "# 1.1 Setting up a project"
   ]
  },
  {
   "cell_type": "markdown",
   "id": "bea8105f",
   "metadata": {},
   "source": [
    "- When beginning a project, you first need to describe the project in a specification, or spec.\n",
    "- A full spec details the project goals, describes the project’s functionality,and discusses its appearance and user interface."
   ]
  },
  {
   "cell_type": "code",
   "execution_count": null,
   "id": "3f0a1450",
   "metadata": {},
   "outputs": [],
   "source": []
  }
 ],
 "metadata": {
  "kernelspec": {
   "display_name": "Python 3 (ipykernel)",
   "language": "python",
   "name": "python3"
  },
  "language_info": {
   "codemirror_mode": {
    "name": "ipython",
    "version": 3
   },
   "file_extension": ".py",
   "mimetype": "text/x-python",
   "name": "python",
   "nbconvert_exporter": "python",
   "pygments_lexer": "ipython3",
   "version": "3.9.13"
  }
 },
 "nbformat": 4,
 "nbformat_minor": 5
}
