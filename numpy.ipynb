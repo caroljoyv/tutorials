{
 "cells": [
  {
   "cell_type": "markdown",
   "id": "1a123a62",
   "metadata": {},
   "source": [
    "#  NumPy"
   ]
  },
  {
   "cell_type": "markdown",
   "id": "2fe89628",
   "metadata": {},
   "source": [
    "- NumPy is used for working with arrays.\n",
    "- Short for 'Numerical Python'\n",
    "- It also has functions for working in domain of linear algebra, fourier transform, and matrices\n",
    "- Has support for N dimensional array\n",
    "\n",
    "### Why NumPy ?\n",
    "- NumPy aims to provide an array object that is up to 50x faster than traditional Python lists.\n",
    "- NumPy arrays are stored at one continuous place in memory unlike lists, so processes can access and manipulate     them very efficiently.\n",
    "- This behavior is called locality of reference in computer science."
   ]
  },
  {
   "cell_type": "code",
   "execution_count": 3,
   "id": "10c79581",
   "metadata": {},
   "outputs": [],
   "source": [
    "import numpy as np"
   ]
  },
  {
   "cell_type": "markdown",
   "id": "7e74713a",
   "metadata": {},
   "source": [
    "# 1.1 Create"
   ]
  },
  {
   "cell_type": "code",
   "execution_count": 4,
   "id": "79277e5b",
   "metadata": {},
   "outputs": [],
   "source": [
    "data = np.random.rand(2,3,4)\n",
    "zeros = np.zeros((2,2,2))\n",
    "full = np.full((2,2,2),7)\n",
    "ones = np.ones((2,2,2))"
   ]
  },
  {
   "cell_type": "code",
   "execution_count": 5,
   "id": "c99a2368",
   "metadata": {},
   "outputs": [
    {
     "data": {
      "text/plain": [
       "array([[[0.46566796, 0.59216683, 0.72461728, 0.18563465],\n",
       "        [0.36129672, 0.82996179, 0.94007407, 0.55884191],\n",
       "        [0.01541504, 0.14457982, 0.09359914, 0.01609773]],\n",
       "\n",
       "       [[0.46996231, 0.80541989, 0.83162797, 0.04402529],\n",
       "        [0.94612744, 0.08486987, 0.0436827 , 0.96924657],\n",
       "        [0.11836229, 0.73880474, 0.66724862, 0.30860654]]])"
      ]
     },
     "execution_count": 5,
     "metadata": {},
     "output_type": "execute_result"
    }
   ],
   "source": [
    "data\n"
   ]
  },
  {
   "cell_type": "code",
   "execution_count": 6,
   "id": "fe762ecf",
   "metadata": {},
   "outputs": [
    {
     "data": {
      "text/plain": [
       "array([[[0., 0.],\n",
       "        [0., 0.]],\n",
       "\n",
       "       [[0., 0.],\n",
       "        [0., 0.]]])"
      ]
     },
     "execution_count": 6,
     "metadata": {},
     "output_type": "execute_result"
    }
   ],
   "source": [
    "zeros"
   ]
  },
  {
   "cell_type": "code",
   "execution_count": 7,
   "id": "db3d720e",
   "metadata": {},
   "outputs": [
    {
     "data": {
      "text/plain": [
       "array([[[7, 7],\n",
       "        [7, 7]],\n",
       "\n",
       "       [[7, 7],\n",
       "        [7, 7]]])"
      ]
     },
     "execution_count": 7,
     "metadata": {},
     "output_type": "execute_result"
    }
   ],
   "source": [
    "full"
   ]
  },
  {
   "cell_type": "code",
   "execution_count": 8,
   "id": "05836c24",
   "metadata": {},
   "outputs": [
    {
     "data": {
      "text/plain": [
       "array([[[1., 1.],\n",
       "        [1., 1.]],\n",
       "\n",
       "       [[1., 1.],\n",
       "        [1., 1.]]])"
      ]
     },
     "execution_count": 8,
     "metadata": {},
     "output_type": "execute_result"
    }
   ],
   "source": [
    "ones"
   ]
  },
  {
   "cell_type": "markdown",
   "id": "aa85b696",
   "metadata": {},
   "source": [
    "## 1.2 Read"
   ]
  },
  {
   "cell_type": "code",
   "execution_count": 9,
   "id": "c9c90ed6",
   "metadata": {},
   "outputs": [],
   "source": [
    "# key attributes of nupy arrays\n",
    "shape = data.shape\n",
    "size = data.size   # number of elements\n",
    "types = data.dtype"
   ]
  },
  {
   "cell_type": "code",
   "execution_count": 10,
   "id": "4d2efced",
   "metadata": {},
   "outputs": [
    {
     "data": {
      "text/plain": [
       "(2, 3, 4)"
      ]
     },
     "execution_count": 10,
     "metadata": {},
     "output_type": "execute_result"
    }
   ],
   "source": [
    "shape\n"
   ]
  },
  {
   "cell_type": "code",
   "execution_count": 11,
   "id": "340ca72a",
   "metadata": {},
   "outputs": [
    {
     "data": {
      "text/plain": [
       "24"
      ]
     },
     "execution_count": 11,
     "metadata": {},
     "output_type": "execute_result"
    }
   ],
   "source": [
    "size"
   ]
  },
  {
   "cell_type": "code",
   "execution_count": 12,
   "id": "7a54c0b9",
   "metadata": {},
   "outputs": [
    {
     "data": {
      "text/plain": [
       "dtype('float64')"
      ]
     },
     "execution_count": 12,
     "metadata": {},
     "output_type": "execute_result"
    }
   ],
   "source": [
    "types"
   ]
  },
  {
   "cell_type": "markdown",
   "id": "c164ec44",
   "metadata": {},
   "source": [
    "## 1.3 Slicing"
   ]
  },
  {
   "cell_type": "code",
   "execution_count": 13,
   "id": "3eec921d",
   "metadata": {},
   "outputs": [
    {
     "data": {
      "text/plain": [
       "array([[[0.46566796, 0.59216683, 0.72461728, 0.18563465],\n",
       "        [0.36129672, 0.82996179, 0.94007407, 0.55884191],\n",
       "        [0.01541504, 0.14457982, 0.09359914, 0.01609773]],\n",
       "\n",
       "       [[0.46996231, 0.80541989, 0.83162797, 0.04402529],\n",
       "        [0.94612744, 0.08486987, 0.0436827 , 0.96924657],\n",
       "        [0.11836229, 0.73880474, 0.66724862, 0.30860654]]])"
      ]
     },
     "execution_count": 13,
     "metadata": {},
     "output_type": "execute_result"
    }
   ],
   "source": [
    "data"
   ]
  },
  {
   "cell_type": "code",
   "execution_count": 14,
   "id": "bd5bc4b9",
   "metadata": {},
   "outputs": [
    {
     "data": {
      "text/plain": [
       "array([[0.46566796, 0.59216683, 0.72461728, 0.18563465],\n",
       "       [0.36129672, 0.82996179, 0.94007407, 0.55884191],\n",
       "       [0.01541504, 0.14457982, 0.09359914, 0.01609773]])"
      ]
     },
     "execution_count": 14,
     "metadata": {},
     "output_type": "execute_result"
    }
   ],
   "source": [
    "arr = data[0]\n",
    "arr"
   ]
  },
  {
   "cell_type": "code",
   "execution_count": 15,
   "id": "c67c0c57",
   "metadata": {},
   "outputs": [
    {
     "data": {
      "text/plain": [
       "0.8299617855253929"
      ]
     },
     "execution_count": 15,
     "metadata": {},
     "output_type": "execute_result"
    }
   ],
   "source": [
    "s1 = data[0][1][1]\n",
    "s1"
   ]
  },
  {
   "cell_type": "code",
   "execution_count": 16,
   "id": "744df113",
   "metadata": {},
   "outputs": [
    {
     "data": {
      "text/plain": [
       "array([[0.36129672, 0.82996179, 0.94007407, 0.55884191],\n",
       "       [0.01541504, 0.14457982, 0.09359914, 0.01609773]])"
      ]
     },
     "execution_count": 16,
     "metadata": {},
     "output_type": "execute_result"
    }
   ],
   "source": [
    "s2 = data[0][1:]\n",
    "s2"
   ]
  },
  {
   "cell_type": "markdown",
   "id": "17c137fe",
   "metadata": {},
   "source": [
    "## 1.4 Update\n"
   ]
  },
  {
   "cell_type": "code",
   "execution_count": 17,
   "id": "22c479e2",
   "metadata": {},
   "outputs": [],
   "source": [
    "list1 = np.random.rand(10)\n",
    "list2 = np.random.rand(10)\n"
   ]
  },
  {
   "cell_type": "code",
   "execution_count": 18,
   "id": "02adfdd9",
   "metadata": {},
   "outputs": [
    {
     "data": {
      "text/plain": [
       "array([0.30733011, 0.43611038, 0.23834356, 0.39829041, 0.44724184,\n",
       "       0.96100418, 0.05282784, 0.87471913, 0.9513772 , 0.82940336])"
      ]
     },
     "execution_count": 18,
     "metadata": {},
     "output_type": "execute_result"
    }
   ],
   "source": [
    "list1\n"
   ]
  },
  {
   "cell_type": "code",
   "execution_count": 19,
   "id": "e50d3a58",
   "metadata": {},
   "outputs": [
    {
     "data": {
      "text/plain": [
       "array([0.08008485, 0.34010184, 0.70487926, 0.12016962, 0.70515393,\n",
       "       0.86038828, 0.34885457, 0.55534388, 0.37086477, 0.86334336])"
      ]
     },
     "execution_count": 19,
     "metadata": {},
     "output_type": "execute_result"
    }
   ],
   "source": [
    "list2"
   ]
  },
  {
   "cell_type": "code",
   "execution_count": 20,
   "id": "e8bad01e",
   "metadata": {},
   "outputs": [],
   "source": [
    "#basic math functions\n",
    "add = np.add(list1,list2)\n",
    "sub = np.subtract(list1,list2)\n",
    "div = np.divide(list1,list2)\n",
    "mul = np.multiply(list1,list2)\n",
    "dot = np.dot(list1,list2)\n"
   ]
  },
  {
   "cell_type": "code",
   "execution_count": 21,
   "id": "af9bef40",
   "metadata": {},
   "outputs": [
    {
     "data": {
      "text/plain": [
       "array([0.38741496, 0.77621222, 0.94322282, 0.51846003, 1.15239576,\n",
       "       1.82139247, 0.40168241, 1.43006301, 1.32224197, 1.69274672])"
      ]
     },
     "execution_count": 21,
     "metadata": {},
     "output_type": "execute_result"
    }
   ],
   "source": [
    "add"
   ]
  },
  {
   "cell_type": "code",
   "execution_count": 22,
   "id": "e28b044e",
   "metadata": {},
   "outputs": [
    {
     "data": {
      "text/plain": [
       "array([ 0.22724526,  0.09600854, -0.46653571,  0.27812079, -0.25791209,\n",
       "        0.1006159 , -0.29602673,  0.31937525,  0.58051242, -0.03393999])"
      ]
     },
     "execution_count": 22,
     "metadata": {},
     "output_type": "execute_result"
    }
   ],
   "source": [
    "sub"
   ]
  },
  {
   "cell_type": "code",
   "execution_count": 23,
   "id": "dc432185",
   "metadata": {},
   "outputs": [
    {
     "data": {
      "text/plain": [
       "array([3.83755629, 1.2822935 , 0.33813388, 3.3144018 , 0.6342471 ,\n",
       "       1.11694244, 0.15143227, 1.57509456, 2.56529404, 0.96068772])"
      ]
     },
     "execution_count": 23,
     "metadata": {},
     "output_type": "execute_result"
    }
   ],
   "source": [
    "div"
   ]
  },
  {
   "cell_type": "code",
   "execution_count": 24,
   "id": "5fc4277b",
   "metadata": {},
   "outputs": [
    {
     "data": {
      "text/plain": [
       "array([0.02461248, 0.14832194, 0.16800343, 0.04786241, 0.31537434,\n",
       "       0.82683674, 0.01842923, 0.48576992, 0.35283229, 0.71605988])"
      ]
     },
     "execution_count": 24,
     "metadata": {},
     "output_type": "execute_result"
    }
   ],
   "source": [
    "mul"
   ]
  },
  {
   "cell_type": "code",
   "execution_count": 25,
   "id": "12b0b1c8",
   "metadata": {},
   "outputs": [
    {
     "data": {
      "text/plain": [
       "3.1041026621817487"
      ]
     },
     "execution_count": 25,
     "metadata": {},
     "output_type": "execute_result"
    }
   ],
   "source": [
    "dot"
   ]
  },
  {
   "cell_type": "code",
   "execution_count": 26,
   "id": "fe1e6c60",
   "metadata": {},
   "outputs": [],
   "source": [
    "# stat functions---(sap lemm)\n",
    "sqrt = np.sqrt(list1)\n",
    "ab = np.abs(-3)\n",
    "power = np.power([2,2,2],[2,1,0])  # array1 raised to exponents in array2\n",
    "log = np.log(25)\n",
    "exp = np.exp([2,3])  #returns an array with exponential of all elements of input array.\n",
    "mins = np.min(list1)\n",
    "maxs = np.max(list2)"
   ]
  },
  {
   "cell_type": "code",
   "execution_count": 27,
   "id": "52d9eacd",
   "metadata": {},
   "outputs": [
    {
     "data": {
      "text/plain": [
       "array([4, 2, 1])"
      ]
     },
     "execution_count": 27,
     "metadata": {},
     "output_type": "execute_result"
    }
   ],
   "source": [
    "power"
   ]
  },
  {
   "cell_type": "code",
   "execution_count": 28,
   "id": "fbe64f75",
   "metadata": {},
   "outputs": [
    {
     "data": {
      "text/plain": [
       "array([ 7.3890561 , 20.08553692])"
      ]
     },
     "execution_count": 28,
     "metadata": {},
     "output_type": "execute_result"
    }
   ],
   "source": [
    "exp"
   ]
  },
  {
   "cell_type": "code",
   "execution_count": 29,
   "id": "b9bb2ece",
   "metadata": {},
   "outputs": [
    {
     "data": {
      "text/plain": [
       "0.052827840165709405"
      ]
     },
     "execution_count": 29,
     "metadata": {},
     "output_type": "execute_result"
    }
   ],
   "source": [
    "mins"
   ]
  },
  {
   "cell_type": "code",
   "execution_count": 30,
   "id": "908a7ae0",
   "metadata": {},
   "outputs": [
    {
     "data": {
      "text/plain": [
       "0.8633433551030486"
      ]
     },
     "execution_count": 30,
     "metadata": {},
     "output_type": "execute_result"
    }
   ],
   "source": [
    "maxs\n"
   ]
  },
  {
   "cell_type": "markdown",
   "id": "0d706fee",
   "metadata": {},
   "source": [
    "## 1.5 Reshaping"
   ]
  },
  {
   "cell_type": "code",
   "execution_count": 31,
   "id": "e111c641",
   "metadata": {},
   "outputs": [
    {
     "name": "stdout",
     "output_type": "stream",
     "text": [
      "(2, 3, 4)\n"
     ]
    }
   ],
   "source": [
    "print(data.shape)"
   ]
  },
  {
   "cell_type": "code",
   "execution_count": 32,
   "id": "ad035533",
   "metadata": {},
   "outputs": [
    {
     "data": {
      "text/plain": [
       "(2, 2, 6)"
      ]
     },
     "execution_count": 32,
     "metadata": {},
     "output_type": "execute_result"
    }
   ],
   "source": [
    "data = data.reshape(2,2,-1)   #allowed to have one unknown dimensio\n",
    "data.shape"
   ]
  },
  {
   "cell_type": "code",
   "execution_count": 57,
   "id": "67f1520a",
   "metadata": {},
   "outputs": [
    {
     "data": {
      "text/plain": [
       "array([ 9,  9,  9,  9,  9,  9, 66])"
      ]
     },
     "execution_count": 57,
     "metadata": {},
     "output_type": "execute_result"
    }
   ],
   "source": [
    "#append()\n",
    "\n",
    "list3 = np.full([2,3],9)\n",
    "list3 = np.append(list3,[66])\n",
    "list3\n"
   ]
  },
  {
   "cell_type": "code",
   "execution_count": 61,
   "id": "ad7be674",
   "metadata": {},
   "outputs": [
    {
     "data": {
      "text/plain": [
       "array([ 9,  9,  9,  9, 88,  9,  9, 66,  1])"
      ]
     },
     "execution_count": 61,
     "metadata": {},
     "output_type": "execute_result"
    }
   ],
   "source": [
    "# insert()\n",
    "\n",
    "list3 = np.insert(list3,4,88)\n",
    "list3\n"
   ]
  },
  {
   "cell_type": "code",
   "execution_count": null,
   "id": "f141eb35",
   "metadata": {},
   "outputs": [],
   "source": []
  },
  {
   "cell_type": "code",
   "execution_count": null,
   "id": "7e387536",
   "metadata": {},
   "outputs": [],
   "source": []
  },
  {
   "cell_type": "code",
   "execution_count": null,
   "id": "b04fc2e0",
   "metadata": {},
   "outputs": [],
   "source": []
  },
  {
   "cell_type": "code",
   "execution_count": null,
   "id": "cdeaf692",
   "metadata": {},
   "outputs": [],
   "source": []
  },
  {
   "cell_type": "code",
   "execution_count": null,
   "id": "6efb1254",
   "metadata": {},
   "outputs": [],
   "source": []
  },
  {
   "cell_type": "code",
   "execution_count": null,
   "id": "3d3b3aef",
   "metadata": {},
   "outputs": [],
   "source": []
  },
  {
   "cell_type": "code",
   "execution_count": null,
   "id": "aa97b8b0",
   "metadata": {},
   "outputs": [],
   "source": []
  }
 ],
 "metadata": {
  "kernelspec": {
   "display_name": "Python 3 (ipykernel)",
   "language": "python",
   "name": "python3"
  },
  "language_info": {
   "codemirror_mode": {
    "name": "ipython",
    "version": 3
   },
   "file_extension": ".py",
   "mimetype": "text/x-python",
   "name": "python",
   "nbconvert_exporter": "python",
   "pygments_lexer": "ipython3",
   "version": "3.9.13"
  }
 },
 "nbformat": 4,
 "nbformat_minor": 5
}
