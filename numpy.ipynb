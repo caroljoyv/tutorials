{
 "cells": [
  {
   "cell_type": "markdown",
   "id": "1a123a62",
   "metadata": {},
   "source": [
    "# 1. NumPy"
   ]
  },
  {
   "cell_type": "markdown",
   "id": "4238bae6",
   "metadata": {},
   "source": [
    "- NumPy is used for working with arrays.\n",
    "- Short for 'Numerical Python'\n",
    "- It also has functions for working in domain of linear algebra, fourier transform, and matrices\n",
    "- Has support for N dimensional array\n",
    "\n",
    "### Why NumPy ?\n",
    "- NumPy aims to provide an array object that is up to 50x faster than traditional Python lists.\n",
    "- NumPy arrays are stored at one continuous place in memory unlike lists, so processes can access and manipulate     them very efficiently.\n",
    "- This behavior is called locality of reference in computer science."
   ]
  },
  {
   "cell_type": "code",
   "execution_count": 1,
   "id": "e5a72cd4",
   "metadata": {},
   "outputs": [],
   "source": [
    "import numpy as np"
   ]
  },
  {
   "cell_type": "markdown",
   "id": "f0e2bc08",
   "metadata": {},
   "source": [
    "# 1.1 Create"
   ]
  },
  {
   "cell_type": "code",
   "execution_count": 4,
   "id": "3d582bf9",
   "metadata": {},
   "outputs": [],
   "source": [
    "data = np.random.rand(2,3,4)\n",
    "zeros = np.zeros((2,2,2))\n",
    "full = np.full((2,2,2),7)\n",
    "ones = np.ones((2,2,2))"
   ]
  },
  {
   "cell_type": "code",
   "execution_count": 6,
   "id": "1ec5a998",
   "metadata": {},
   "outputs": [
    {
     "data": {
      "text/plain": [
       "array([[[0.20748134, 0.48032038, 0.8979464 , 0.20025759],\n",
       "        [0.76453676, 0.90182434, 0.23601356, 0.52829327],\n",
       "        [0.20138967, 0.12108069, 0.89770738, 0.88880349]],\n",
       "\n",
       "       [[0.54128486, 0.77817567, 0.03874227, 0.7507657 ],\n",
       "        [0.92901983, 0.32199217, 0.0882579 , 0.97878853],\n",
       "        [0.00298111, 0.13953065, 0.30716295, 0.56337187]]])"
      ]
     },
     "execution_count": 6,
     "metadata": {},
     "output_type": "execute_result"
    }
   ],
   "source": [
    "data\n"
   ]
  },
  {
   "cell_type": "code",
   "execution_count": 7,
   "id": "90f4abf4",
   "metadata": {},
   "outputs": [
    {
     "data": {
      "text/plain": [
       "array([[[0., 0.],\n",
       "        [0., 0.]],\n",
       "\n",
       "       [[0., 0.],\n",
       "        [0., 0.]]])"
      ]
     },
     "execution_count": 7,
     "metadata": {},
     "output_type": "execute_result"
    }
   ],
   "source": [
    "zeros"
   ]
  },
  {
   "cell_type": "code",
   "execution_count": 8,
   "id": "b3429167",
   "metadata": {},
   "outputs": [
    {
     "data": {
      "text/plain": [
       "array([[[7, 7],\n",
       "        [7, 7]],\n",
       "\n",
       "       [[7, 7],\n",
       "        [7, 7]]])"
      ]
     },
     "execution_count": 8,
     "metadata": {},
     "output_type": "execute_result"
    }
   ],
   "source": [
    "full"
   ]
  },
  {
   "cell_type": "code",
   "execution_count": 9,
   "id": "18090875",
   "metadata": {},
   "outputs": [
    {
     "data": {
      "text/plain": [
       "array([[[1., 1.],\n",
       "        [1., 1.]],\n",
       "\n",
       "       [[1., 1.],\n",
       "        [1., 1.]]])"
      ]
     },
     "execution_count": 9,
     "metadata": {},
     "output_type": "execute_result"
    }
   ],
   "source": [
    "ones"
   ]
  },
  {
   "cell_type": "markdown",
   "id": "a6652120",
   "metadata": {},
   "source": [
    "## 1.2 Read"
   ]
  },
  {
   "cell_type": "code",
   "execution_count": 10,
   "id": "ed600380",
   "metadata": {},
   "outputs": [],
   "source": [
    "# key attributes of nupy arrays\n",
    "shape = data.shape\n",
    "size = data.size   # number of elements\n",
    "types = data.dtype"
   ]
  },
  {
   "cell_type": "code",
   "execution_count": 16,
   "id": "62f3aa2f",
   "metadata": {},
   "outputs": [
    {
     "data": {
      "text/plain": [
       "(2, 3, 4)"
      ]
     },
     "execution_count": 16,
     "metadata": {},
     "output_type": "execute_result"
    }
   ],
   "source": [
    "shape\n"
   ]
  },
  {
   "cell_type": "code",
   "execution_count": 12,
   "id": "48ae9e38",
   "metadata": {},
   "outputs": [
    {
     "data": {
      "text/plain": [
       "24"
      ]
     },
     "execution_count": 12,
     "metadata": {},
     "output_type": "execute_result"
    }
   ],
   "source": [
    "size"
   ]
  },
  {
   "cell_type": "code",
   "execution_count": 14,
   "id": "d57558fa",
   "metadata": {},
   "outputs": [
    {
     "data": {
      "text/plain": [
       "dtype('float64')"
      ]
     },
     "execution_count": 14,
     "metadata": {},
     "output_type": "execute_result"
    }
   ],
   "source": [
    "types"
   ]
  },
  {
   "cell_type": "markdown",
   "id": "b743f201",
   "metadata": {},
   "source": [
    "## 1.3 Slicing"
   ]
  },
  {
   "cell_type": "code",
   "execution_count": 20,
   "id": "a76514a2",
   "metadata": {},
   "outputs": [
    {
     "data": {
      "text/plain": [
       "array([[[0.20748134, 0.48032038, 0.8979464 , 0.20025759],\n",
       "        [0.76453676, 0.90182434, 0.23601356, 0.52829327],\n",
       "        [0.20138967, 0.12108069, 0.89770738, 0.88880349]],\n",
       "\n",
       "       [[0.54128486, 0.77817567, 0.03874227, 0.7507657 ],\n",
       "        [0.92901983, 0.32199217, 0.0882579 , 0.97878853],\n",
       "        [0.00298111, 0.13953065, 0.30716295, 0.56337187]]])"
      ]
     },
     "execution_count": 20,
     "metadata": {},
     "output_type": "execute_result"
    }
   ],
   "source": [
    "data"
   ]
  },
  {
   "cell_type": "code",
   "execution_count": 21,
   "id": "269f0be3",
   "metadata": {},
   "outputs": [
    {
     "data": {
      "text/plain": [
       "array([[0.20748134, 0.48032038, 0.8979464 , 0.20025759],\n",
       "       [0.76453676, 0.90182434, 0.23601356, 0.52829327],\n",
       "       [0.20138967, 0.12108069, 0.89770738, 0.88880349]])"
      ]
     },
     "execution_count": 21,
     "metadata": {},
     "output_type": "execute_result"
    }
   ],
   "source": [
    "arr = data[0]\n",
    "arr"
   ]
  },
  {
   "cell_type": "code",
   "execution_count": 22,
   "id": "b2418c02",
   "metadata": {},
   "outputs": [
    {
     "data": {
      "text/plain": [
       "0.901824335272361"
      ]
     },
     "execution_count": 22,
     "metadata": {},
     "output_type": "execute_result"
    }
   ],
   "source": [
    "s1 = data[0][1][1]\n",
    "s1"
   ]
  },
  {
   "cell_type": "code",
   "execution_count": 29,
   "id": "3c2ba919",
   "metadata": {},
   "outputs": [
    {
     "data": {
      "text/plain": [
       "array([[0.76453676, 0.90182434, 0.23601356, 0.52829327],\n",
       "       [0.20138967, 0.12108069, 0.89770738, 0.88880349]])"
      ]
     },
     "execution_count": 29,
     "metadata": {},
     "output_type": "execute_result"
    }
   ],
   "source": [
    "s2 = data[0][1:]\n",
    "s2"
   ]
  },
  {
   "cell_type": "markdown",
   "id": "b8cdcd0c",
   "metadata": {},
   "source": [
    "## 1.4 Update\n"
   ]
  },
  {
   "cell_type": "code",
   "execution_count": 32,
   "id": "eb571dc5",
   "metadata": {},
   "outputs": [],
   "source": [
    "list1 = np.random.rand(10)\n",
    "list2 = np.random.rand(10)\n"
   ]
  },
  {
   "cell_type": "code",
   "execution_count": 33,
   "id": "bc31df94",
   "metadata": {},
   "outputs": [
    {
     "data": {
      "text/plain": [
       "array([0.46896257, 0.06164376, 0.01191004, 0.10968548, 0.31053523,\n",
       "       0.07310445, 0.08209714, 0.41755692, 0.62001898, 0.0087792 ])"
      ]
     },
     "execution_count": 33,
     "metadata": {},
     "output_type": "execute_result"
    }
   ],
   "source": [
    "list1\n"
   ]
  },
  {
   "cell_type": "code",
   "execution_count": 37,
   "id": "7b2489ed",
   "metadata": {},
   "outputs": [
    {
     "data": {
      "text/plain": [
       "array([0.72351165, 0.42516963, 0.52010981, 0.40550025, 0.25943816,\n",
       "       0.6818814 , 0.18848839, 0.90062156, 0.43111923, 0.72737926])"
      ]
     },
     "execution_count": 37,
     "metadata": {},
     "output_type": "execute_result"
    }
   ],
   "source": [
    "list2"
   ]
  },
  {
   "cell_type": "code",
   "execution_count": 39,
   "id": "0227b65a",
   "metadata": {},
   "outputs": [],
   "source": [
    "#basic math functions\n",
    "add = np.add(list1,list2)\n",
    "sub = np.subtract(list1,list2)\n",
    "div = np.divide(list1,list2)\n",
    "mul = np.multiply(list1,list2)\n",
    "dot = np.dot(list1,list2)\n"
   ]
  },
  {
   "cell_type": "code",
   "execution_count": 40,
   "id": "04837409",
   "metadata": {},
   "outputs": [
    {
     "data": {
      "text/plain": [
       "array([1.19247421, 0.48681339, 0.53201986, 0.51518573, 0.56997339,\n",
       "       0.75498585, 0.27058553, 1.31817848, 1.05113821, 0.73615846])"
      ]
     },
     "execution_count": 40,
     "metadata": {},
     "output_type": "execute_result"
    }
   ],
   "source": [
    "add"
   ]
  },
  {
   "cell_type": "code",
   "execution_count": 41,
   "id": "f5c76f04",
   "metadata": {},
   "outputs": [
    {
     "data": {
      "text/plain": [
       "array([-0.25454908, -0.36352586, -0.50819977, -0.29581477,  0.05109707,\n",
       "       -0.60877694, -0.10639124, -0.48306465,  0.18889975, -0.71860006])"
      ]
     },
     "execution_count": 41,
     "metadata": {},
     "output_type": "execute_result"
    }
   ],
   "source": [
    "sub"
   ]
  },
  {
   "cell_type": "code",
   "execution_count": 42,
   "id": "aeccbbef",
   "metadata": {},
   "outputs": [
    {
     "data": {
      "text/plain": [
       "array([0.64817556, 0.14498628, 0.02289909, 0.27049423, 1.1969528 ,\n",
       "       0.10720992, 0.43555545, 0.46363193, 1.43816126, 0.01206963])"
      ]
     },
     "execution_count": 42,
     "metadata": {},
     "output_type": "execute_result"
    }
   ],
   "source": [
    "div"
   ]
  },
  {
   "cell_type": "code",
   "execution_count": 43,
   "id": "3d128fb5",
   "metadata": {},
   "outputs": [
    {
     "data": {
      "text/plain": [
       "array([0.33929988, 0.02620906, 0.00619453, 0.04447749, 0.08056469,\n",
       "       0.04984857, 0.01547436, 0.37606076, 0.26730211, 0.00638581])"
      ]
     },
     "execution_count": 43,
     "metadata": {},
     "output_type": "execute_result"
    }
   ],
   "source": [
    "mul"
   ]
  },
  {
   "cell_type": "code",
   "execution_count": 44,
   "id": "d5884db9",
   "metadata": {},
   "outputs": [
    {
     "data": {
      "text/plain": [
       "1.211817243884774"
      ]
     },
     "execution_count": 44,
     "metadata": {},
     "output_type": "execute_result"
    }
   ],
   "source": [
    "dot"
   ]
  },
  {
   "cell_type": "code",
   "execution_count": 52,
   "id": "2fa4f720",
   "metadata": {},
   "outputs": [],
   "source": [
    "# stat functions---(sap lemm)\n",
    "sqrt = np.sqrt(list1)\n",
    "ab = np.abs(-3)\n",
    "power = np.power([2,2,2],[2,1,0])  # array1 raised to exponents in array2\n",
    "log = np.log(25)\n",
    "exp = np.exp([2,3])"
   ]
  },
  {
   "cell_type": "code",
   "execution_count": 50,
   "id": "3dc0c6b6",
   "metadata": {},
   "outputs": [
    {
     "data": {
      "text/plain": [
       "array([4, 2, 1])"
      ]
     },
     "execution_count": 50,
     "metadata": {},
     "output_type": "execute_result"
    }
   ],
   "source": [
    "power"
   ]
  },
  {
   "cell_type": "code",
   "execution_count": 53,
   "id": "7741dce0",
   "metadata": {},
   "outputs": [
    {
     "data": {
      "text/plain": [
       "array([ 7.3890561 , 20.08553692])"
      ]
     },
     "execution_count": 53,
     "metadata": {},
     "output_type": "execute_result"
    }
   ],
   "source": [
    "exp"
   ]
  },
  {
   "cell_type": "code",
   "execution_count": null,
   "id": "8f790760",
   "metadata": {},
   "outputs": [],
   "source": []
  }
 ],
 "metadata": {
  "kernelspec": {
   "display_name": "Python 3 (ipykernel)",
   "language": "python",
   "name": "python3"
  },
  "language_info": {
   "codemirror_mode": {
    "name": "ipython",
    "version": 3
   },
   "file_extension": ".py",
   "mimetype": "text/x-python",
   "name": "python",
   "nbconvert_exporter": "python",
   "pygments_lexer": "ipython3",
   "version": "3.9.13"
  }
 },
 "nbformat": 4,
 "nbformat_minor": 5
}
