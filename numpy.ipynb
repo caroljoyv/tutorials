{
 "cells": [
  {
   "cell_type": "markdown",
   "id": "1a123a62",
   "metadata": {},
   "source": [
    "# 1. NumPy"
   ]
  },
  {
   "cell_type": "markdown",
   "id": "47ca277d",
   "metadata": {},
   "source": [
    "- NumPy is used for working with arrays.\n",
    "- Short for 'Numerical Python'\n",
    "- It also has functions for working in domain of linear algebra, fourier transform, and matrices\n",
    "- Has support for N dimensional array\n",
    "\n",
    "### Why NumPy ?\n",
    "- NumPy aims to provide an array object that is up to 50x faster than traditional Python lists.\n",
    "- NumPy arrays are stored at one continuous place in memory unlike lists, so processes can access and manipulate     them very efficiently.\n",
    "- This behavior is called locality of reference in computer science."
   ]
  },
  {
   "cell_type": "code",
   "execution_count": 1,
   "id": "ef2d2053",
   "metadata": {},
   "outputs": [],
   "source": [
    "import numpy as np"
   ]
  },
  {
   "cell_type": "markdown",
   "id": "029ebfaf",
   "metadata": {},
   "source": [
    "# 1.1 Create"
   ]
  },
  {
   "cell_type": "code",
   "execution_count": 4,
   "id": "8aab0c07",
   "metadata": {},
   "outputs": [],
   "source": [
    "data = np.random.rand(2,3,4)\n",
    "zeros = np.zeros((2,2,2))\n",
    "full = np.full((2,2,2),7)\n",
    "ones = np.ones((2,2,2))"
   ]
  },
  {
   "cell_type": "code",
   "execution_count": 6,
   "id": "dc8c54db",
   "metadata": {},
   "outputs": [
    {
     "data": {
      "text/plain": [
       "array([[[0.20748134, 0.48032038, 0.8979464 , 0.20025759],\n",
       "        [0.76453676, 0.90182434, 0.23601356, 0.52829327],\n",
       "        [0.20138967, 0.12108069, 0.89770738, 0.88880349]],\n",
       "\n",
       "       [[0.54128486, 0.77817567, 0.03874227, 0.7507657 ],\n",
       "        [0.92901983, 0.32199217, 0.0882579 , 0.97878853],\n",
       "        [0.00298111, 0.13953065, 0.30716295, 0.56337187]]])"
      ]
     },
     "execution_count": 6,
     "metadata": {},
     "output_type": "execute_result"
    }
   ],
   "source": [
    "data\n"
   ]
  },
  {
   "cell_type": "code",
   "execution_count": 7,
   "id": "0488c082",
   "metadata": {},
   "outputs": [
    {
     "data": {
      "text/plain": [
       "array([[[0., 0.],\n",
       "        [0., 0.]],\n",
       "\n",
       "       [[0., 0.],\n",
       "        [0., 0.]]])"
      ]
     },
     "execution_count": 7,
     "metadata": {},
     "output_type": "execute_result"
    }
   ],
   "source": [
    "zeros"
   ]
  },
  {
   "cell_type": "code",
   "execution_count": 8,
   "id": "79aec4f1",
   "metadata": {},
   "outputs": [
    {
     "data": {
      "text/plain": [
       "array([[[7, 7],\n",
       "        [7, 7]],\n",
       "\n",
       "       [[7, 7],\n",
       "        [7, 7]]])"
      ]
     },
     "execution_count": 8,
     "metadata": {},
     "output_type": "execute_result"
    }
   ],
   "source": [
    "full"
   ]
  },
  {
   "cell_type": "code",
   "execution_count": 9,
   "id": "d5bdbb42",
   "metadata": {},
   "outputs": [
    {
     "data": {
      "text/plain": [
       "array([[[1., 1.],\n",
       "        [1., 1.]],\n",
       "\n",
       "       [[1., 1.],\n",
       "        [1., 1.]]])"
      ]
     },
     "execution_count": 9,
     "metadata": {},
     "output_type": "execute_result"
    }
   ],
   "source": [
    "ones"
   ]
  },
  {
   "cell_type": "markdown",
   "id": "ae9938ef",
   "metadata": {},
   "source": [
    "## 1.2 Read"
   ]
  },
  {
   "cell_type": "code",
   "execution_count": 10,
   "id": "22a1144d",
   "metadata": {},
   "outputs": [],
   "source": [
    "# key attributes of nupy arrays\n",
    "shape = data.shape\n",
    "size = data.size   # number of elements\n",
    "types = data.dtype"
   ]
  },
  {
   "cell_type": "code",
   "execution_count": 16,
   "id": "aa4e53b3",
   "metadata": {},
   "outputs": [
    {
     "data": {
      "text/plain": [
       "(2, 3, 4)"
      ]
     },
     "execution_count": 16,
     "metadata": {},
     "output_type": "execute_result"
    }
   ],
   "source": [
    "shape\n"
   ]
  },
  {
   "cell_type": "code",
   "execution_count": 12,
   "id": "696f0be1",
   "metadata": {},
   "outputs": [
    {
     "data": {
      "text/plain": [
       "24"
      ]
     },
     "execution_count": 12,
     "metadata": {},
     "output_type": "execute_result"
    }
   ],
   "source": [
    "size"
   ]
  },
  {
   "cell_type": "code",
   "execution_count": 14,
   "id": "03e258ae",
   "metadata": {},
   "outputs": [
    {
     "data": {
      "text/plain": [
       "dtype('float64')"
      ]
     },
     "execution_count": 14,
     "metadata": {},
     "output_type": "execute_result"
    }
   ],
   "source": [
    "types"
   ]
  },
  {
   "cell_type": "markdown",
   "id": "dc3f221a",
   "metadata": {},
   "source": [
    "## 1.3 Slicing"
   ]
  },
  {
   "cell_type": "code",
   "execution_count": 20,
   "id": "86c87191",
   "metadata": {},
   "outputs": [
    {
     "data": {
      "text/plain": [
       "array([[[0.20748134, 0.48032038, 0.8979464 , 0.20025759],\n",
       "        [0.76453676, 0.90182434, 0.23601356, 0.52829327],\n",
       "        [0.20138967, 0.12108069, 0.89770738, 0.88880349]],\n",
       "\n",
       "       [[0.54128486, 0.77817567, 0.03874227, 0.7507657 ],\n",
       "        [0.92901983, 0.32199217, 0.0882579 , 0.97878853],\n",
       "        [0.00298111, 0.13953065, 0.30716295, 0.56337187]]])"
      ]
     },
     "execution_count": 20,
     "metadata": {},
     "output_type": "execute_result"
    }
   ],
   "source": [
    "data"
   ]
  },
  {
   "cell_type": "code",
   "execution_count": 21,
   "id": "653796ce",
   "metadata": {},
   "outputs": [
    {
     "data": {
      "text/plain": [
       "array([[0.20748134, 0.48032038, 0.8979464 , 0.20025759],\n",
       "       [0.76453676, 0.90182434, 0.23601356, 0.52829327],\n",
       "       [0.20138967, 0.12108069, 0.89770738, 0.88880349]])"
      ]
     },
     "execution_count": 21,
     "metadata": {},
     "output_type": "execute_result"
    }
   ],
   "source": [
    "arr = data[0]\n",
    "arr"
   ]
  },
  {
   "cell_type": "code",
   "execution_count": 22,
   "id": "30f410c9",
   "metadata": {},
   "outputs": [
    {
     "data": {
      "text/plain": [
       "0.901824335272361"
      ]
     },
     "execution_count": 22,
     "metadata": {},
     "output_type": "execute_result"
    }
   ],
   "source": [
    "s1 = data[0][1][1]\n",
    "s1"
   ]
  },
  {
   "cell_type": "code",
   "execution_count": 29,
   "id": "859ff192",
   "metadata": {},
   "outputs": [
    {
     "data": {
      "text/plain": [
       "array([[0.76453676, 0.90182434, 0.23601356, 0.52829327],\n",
       "       [0.20138967, 0.12108069, 0.89770738, 0.88880349]])"
      ]
     },
     "execution_count": 29,
     "metadata": {},
     "output_type": "execute_result"
    }
   ],
   "source": [
    "s2 = data[0][1:]\n",
    "s2"
   ]
  },
  {
   "cell_type": "markdown",
   "id": "78adc0e9",
   "metadata": {},
   "source": [
    "## 1.4 Update\n"
   ]
  },
  {
   "cell_type": "code",
   "execution_count": 32,
   "id": "5f8dd4c7",
   "metadata": {},
   "outputs": [],
   "source": [
    "list1 = np.random.rand(10)\n",
    "list2 = np.random.rand(10)\n"
   ]
  },
  {
   "cell_type": "code",
   "execution_count": 33,
   "id": "9573fe6c",
   "metadata": {},
   "outputs": [
    {
     "data": {
      "text/plain": [
       "array([0.46896257, 0.06164376, 0.01191004, 0.10968548, 0.31053523,\n",
       "       0.07310445, 0.08209714, 0.41755692, 0.62001898, 0.0087792 ])"
      ]
     },
     "execution_count": 33,
     "metadata": {},
     "output_type": "execute_result"
    }
   ],
   "source": [
    "list1\n"
   ]
  },
  {
   "cell_type": "code",
   "execution_count": 34,
   "id": "8ce88112",
   "metadata": {},
   "outputs": [
    {
     "data": {
      "text/plain": [
       "array([0.72351165, 0.42516963, 0.52010981, 0.40550025, 0.25943816,\n",
       "       0.6818814 , 0.18848839, 0.90062156, 0.43111923, 0.72737926])"
      ]
     },
     "execution_count": 34,
     "metadata": {},
     "output_type": "execute_result"
    }
   ],
   "source": [
    "list2"
   ]
  },
  {
   "cell_type": "code",
   "execution_count": null,
   "id": "d3bcf156",
   "metadata": {},
   "outputs": [],
   "source": []
  }
 ],
 "metadata": {
  "kernelspec": {
   "display_name": "Python 3 (ipykernel)",
   "language": "python",
   "name": "python3"
  },
  "language_info": {
   "codemirror_mode": {
    "name": "ipython",
    "version": 3
   },
   "file_extension": ".py",
   "mimetype": "text/x-python",
   "name": "python",
   "nbconvert_exporter": "python",
   "pygments_lexer": "ipython3",
   "version": "3.9.13"
  }
 },
 "nbformat": 4,
 "nbformat_minor": 5
}
